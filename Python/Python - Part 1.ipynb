{
 "cells": [
  {
   "cell_type": "markdown",
   "id": "8a79b3a8",
   "metadata": {},
   "source": [
    "# *****************Python - Part 1*************************************"
   ]
  },
  {
   "cell_type": "markdown",
   "id": "6f84df13",
   "metadata": {},
   "source": [
    "<span style=\"color:blue\">Python is a high-level, interpreted, and general-purpose programming language.               \n",
    "It was created by Guido van Rossum and first released in 1991.                                    \n",
    "Python is known for its simplicity, readability, and versatility, making it a popular choice for beginners and experienced programmers ."
   ]
  },
  {
   "cell_type": "markdown",
   "id": "d7757849",
   "metadata": {},
   "source": [
    "# Python Operators Precedence Rule - PEMDAS\n"
   ]
  },
  {
   "cell_type": "markdown",
   "id": "a39466f6",
   "metadata": {},
   "source": [
    "<span style=\"color:green\"> \n",
    "Sure! PEMDAS is an acronym that stands for the order of operations in arithmetic expressions:\n",
    "\n",
    "Parentheses               \n",
    "Exponents (or Powers)                  \n",
    "Multiplication and Division (from left to right)                   \n",
    "Addition and Subtraction (from left to right)   \n",
    "    \n",
    "<span style=\"color:green\">Multiplication and division have the same precedence,and the same goes for addition and subtraction.                             \n",
    "When a division operator appears before multiplication, division goes first.</span>."
   ]
  },
  {
   "cell_type": "code",
   "execution_count": 1,
   "id": "65b555ad",
   "metadata": {},
   "outputs": [
    {
     "name": "stdout",
     "output_type": "stream",
     "text": [
      "80.0\n"
     ]
    }
   ],
   "source": [
    "result = (10 - 2) * 4 / 2 + 8 ** 2\n",
    "print(result)"
   ]
  },
  {
   "cell_type": "markdown",
   "id": "f82e45e8",
   "metadata": {},
   "source": [
    "# / vs // — division vs floor division\n",
    "\n",
    "<span style=\"color:green\"> Division (/): Always returns a floating-point result, even if both operands are integers.                 \n",
    "Floor Division (//): Always returns an integer result, truncating the fractional part."
   ]
  },
  {
   "cell_type": "code",
   "execution_count": 2,
   "id": "5ee19926",
   "metadata": {},
   "outputs": [
    {
     "name": "stdout",
     "output_type": "stream",
     "text": [
      "Regular division\n",
      "5.0 \t is a float.\n",
      "3.75 \t is a float.\n",
      "\n",
      "Floor division\n",
      "3 \t is an int.\n",
      "-4 \t is an int.\n",
      "3.0 \t is a float.\n"
     ]
    }
   ],
   "source": [
    "print(\"Regular division\")\n",
    "print(15 / 3, \"\\t is a float.\")\n",
    "print(15 / 4, \"\\t is a float.\")\n",
    "\n",
    "print(\"\\nFloor division\")\n",
    "print(15 // 4, \"\\t is an int.\")\n",
    "print(-15 // 4, \"\\t is an int.\")\n",
    "print(15.0 // 4, \"\\t is a float.\")"
   ]
  },
  {
   "cell_type": "markdown",
   "id": "b9fa6d0a",
   "metadata": {},
   "source": [
    "# DATA TYPES- BOOLEAN "
   ]
  },
  {
   "cell_type": "markdown",
   "id": "5dc8273c",
   "metadata": {},
   "source": [
    "<span style=\"color:blue\"> TRUE-considered as 1 for operation.</span>.\n",
    "\n",
    "<span style=\"color:blue\"> FALSE-considered as 0 for operation.</span>."
   ]
  },
  {
   "cell_type": "code",
   "execution_count": 5,
   "id": "10359087",
   "metadata": {},
   "outputs": [],
   "source": [
    "import warnings\n",
    "warnings.filterwarnings('ignore')"
   ]
  },
  {
   "cell_type": "code",
   "execution_count": 6,
   "id": "089bbea6",
   "metadata": {},
   "outputs": [
    {
     "name": "stdout",
     "output_type": "stream",
     "text": [
      "True\n",
      "False\n",
      "False\n",
      "False\n",
      "1\n",
      "2\n",
      "True\n",
      "0\n",
      "-3.1\n"
     ]
    }
   ],
   "source": [
    "print(1<2)\n",
    "print(True is False)\n",
    "print(\"b\"is\"c\")\n",
    "print(10 is 11)\n",
    "print(True + False)\n",
    "print(True + True)\n",
    "print(True and False or True)\n",
    "print(3* False)\n",
    "print(-3.1* True)"
   ]
  },
  {
   "cell_type": "markdown",
   "id": "93bd731f",
   "metadata": {},
   "source": [
    "<span style=\"color:blue\">Almost any value is evaluated to True if it has some sort of content."
   ]
  },
  {
   "cell_type": "code",
   "execution_count": 7,
   "id": "24cebba6",
   "metadata": {},
   "outputs": [
    {
     "name": "stdout",
     "output_type": "stream",
     "text": [
      "True\n",
      "False\n",
      "False\n"
     ]
    }
   ],
   "source": [
    "print(10 > 9)\n",
    "print(10 == 9)\n",
    "print(10 < 9)"
   ]
  },
  {
   "cell_type": "markdown",
   "id": "027c25ef",
   "metadata": {},
   "source": [
    "<span style=\"color:blue\">Any string is True, except empty strings."
   ]
  },
  {
   "cell_type": "code",
   "execution_count": 8,
   "id": "b1f5ebec",
   "metadata": {},
   "outputs": [
    {
     "name": "stdout",
     "output_type": "stream",
     "text": [
      "True\n",
      "True\n"
     ]
    }
   ],
   "source": [
    "x = \"Hello\"\n",
    "y = 15\n",
    "\n",
    "print(bool(x))\n",
    "print(bool(y))"
   ]
  },
  {
   "cell_type": "markdown",
   "id": "8f3163e1",
   "metadata": {},
   "source": [
    "<span style=\"color:blue\">Any list, tuple, set, and dictionary are True, except empty ones."
   ]
  },
  {
   "cell_type": "code",
   "execution_count": 9,
   "id": "94d08fa1",
   "metadata": {},
   "outputs": [
    {
     "name": "stdout",
     "output_type": "stream",
     "text": [
      "True\n",
      "True\n",
      "True\n"
     ]
    }
   ],
   "source": [
    "print(bool(\"abc\"))\n",
    "print(bool(123))\n",
    "print(bool([\"apple\", \"cherry\", \"banana\"]))"
   ]
  },
  {
   "cell_type": "markdown",
   "id": "075fed42",
   "metadata": {},
   "source": [
    "<span style=\"color:blue\">Any number is True, except 0."
   ]
  },
  {
   "cell_type": "code",
   "execution_count": 10,
   "id": "7c5fac57",
   "metadata": {},
   "outputs": [
    {
     "name": "stdout",
     "output_type": "stream",
     "text": [
      "False\n",
      "False\n",
      "False\n",
      "False\n",
      "False\n",
      "False\n",
      "False\n"
     ]
    }
   ],
   "source": [
    "print(bool(False))\n",
    "print(bool(None))\n",
    "print(bool(0))\n",
    "print(bool(\"\"))\n",
    "print(bool(()))\n",
    "print(bool([]))\n",
    "print(bool({}))\n"
   ]
  },
  {
   "cell_type": "markdown",
   "id": "71100610",
   "metadata": {},
   "source": [
    "# Multiply with int and non-int"
   ]
  },
  {
   "cell_type": "code",
   "execution_count": 29,
   "id": "7e4a3b6b",
   "metadata": {},
   "outputs": [
    {
     "name": "stdout",
     "output_type": "stream",
     "text": [
      "xyzxyzxyz\n",
      "15.0\n"
     ]
    }
   ],
   "source": [
    "print(\"xyz\"*3)\n",
    "print(5*3.0)"
   ]
  },
  {
   "cell_type": "markdown",
   "id": "97caf175",
   "metadata": {},
   "source": [
    "<span style=\"color:red\">Can't multiply sequence /string  by non-int               \n",
    "print(\"xyz\"*3.0)                           \n",
    "print(\"5\"*3.0)\n"
   ]
  },
  {
   "cell_type": "markdown",
   "id": "a5043e84",
   "metadata": {},
   "source": [
    "# KEYWORD"
   ]
  },
  {
   "cell_type": "markdown",
   "id": "9a57bfdf",
   "metadata": {},
   "source": [
    "<span style=\"color:green\">Python has a set of keywords that are reserved words that cannot be used as variable names, function names, or any other identifiers:"
   ]
  },
  {
   "cell_type": "code",
   "execution_count": 14,
   "id": "5dcac948",
   "metadata": {},
   "outputs": [
    {
     "name": "stdout",
     "output_type": "stream",
     "text": [
      "['False', 'None', 'True', '__peg_parser__', 'and', 'as', 'assert', 'async', 'await', 'break', 'class', 'continue', 'def', 'del', 'elif', 'else', 'except', 'finally', 'for', 'from', 'global', 'if', 'import', 'in', 'is', 'lambda', 'nonlocal', 'not', 'or', 'pass', 'raise', 'return', 'try', 'while', 'with', 'yield']\n"
     ]
    }
   ],
   "source": [
    "import keyword\n",
    "print(keyword.kwlist)"
   ]
  },
  {
   "cell_type": "markdown",
   "id": "9d80083c",
   "metadata": {},
   "source": [
    "<span style=\"color:blue\">\n",
    "\"None\" = This is a sepecial constant used to denoate a null value or a void .\n",
    " Any Empty Container does not compute to None."
   ]
  },
  {
   "cell_type": "code",
   "execution_count": 15,
   "id": "8c53872f",
   "metadata": {},
   "outputs": [
    {
     "name": "stdout",
     "output_type": "stream",
     "text": [
      "False\n"
     ]
    }
   ],
   "source": [
    "print(None==[])"
   ]
  },
  {
   "cell_type": "markdown",
   "id": "35ea7231",
   "metadata": {},
   "source": [
    "# Comments"
   ]
  },
  {
   "cell_type": "code",
   "execution_count": 30,
   "id": "1e622585",
   "metadata": {},
   "outputs": [
    {
     "name": "stdout",
     "output_type": "stream",
     "text": [
      "Hello, World!\n"
     ]
    }
   ],
   "source": [
    "\"\"\"\n",
    "This is a comment\n",
    "written in\n",
    "more than just one line\n",
    "\"\"\"\n",
    "print(\"Hello, World!\")"
   ]
  },
  {
   "cell_type": "code",
   "execution_count": 31,
   "id": "29ee14a4",
   "metadata": {},
   "outputs": [
    {
     "name": "stdout",
     "output_type": "stream",
     "text": [
      "Hello, World!\n"
     ]
    }
   ],
   "source": [
    "# This is a multi-line comment.\n",
    "# You can add comments on multiple lines\n",
    "# by placing the hash character (#) at the beginning of each line.\n",
    "print(\"Hello, World!\")"
   ]
  },
  {
   "cell_type": "markdown",
   "id": "4e3acc1f",
   "metadata": {},
   "source": [
    "# Variables"
   ]
  },
  {
   "cell_type": "markdown",
   "id": "9695da3e",
   "metadata": {},
   "source": [
    "<span style=\"color:green\">Variables are containers for storing data values.\n",
    "\n",
    "<span style=\"color:blue\">Should not start with number and symbol(except underscore)\n"
   ]
  },
  {
   "cell_type": "markdown",
   "id": "7e721583",
   "metadata": {},
   "source": [
    "<span style=\"color:green\">An identifier is a user-defined name to represent a variable, a function, a class, a module, or any other object."
   ]
  },
  {
   "cell_type": "code",
   "execution_count": 32,
   "id": "c2481372",
   "metadata": {},
   "outputs": [
    {
     "name": "stdout",
     "output_type": "stream",
     "text": [
      "80\n"
     ]
    }
   ],
   "source": [
    "_ni=80\n",
    "print(_ni)"
   ]
  },
  {
   "cell_type": "markdown",
   "id": "b553774f",
   "metadata": {},
   "source": [
    "# Checking Data Type"
   ]
  },
  {
   "cell_type": "code",
   "execution_count": 33,
   "id": "7a499bb8",
   "metadata": {},
   "outputs": [
    {
     "name": "stdout",
     "output_type": "stream",
     "text": [
      "<class 'int'>\n"
     ]
    }
   ],
   "source": [
    "print(type(_ni))"
   ]
  },
  {
   "cell_type": "code",
   "execution_count": 51,
   "id": "b194bde9",
   "metadata": {},
   "outputs": [
    {
     "ename": "TypeError",
     "evalue": "can only concatenate str (not \"int\") to str",
     "output_type": "error",
     "traceback": [
      "\u001b[1;31m---------------------------------------------------------------------------\u001b[0m",
      "\u001b[1;31mTypeError\u001b[0m                                 Traceback (most recent call last)",
      "Input \u001b[1;32mIn [51]\u001b[0m, in \u001b[0;36m<cell line: 1>\u001b[1;34m()\u001b[0m\n\u001b[1;32m----> 1\u001b[0m \u001b[38;5;28mprint\u001b[39m(\u001b[38;5;124;43m\"\u001b[39;49m\u001b[38;5;124;43mDay\u001b[39;49m\u001b[38;5;124;43m\"\u001b[39;49m\u001b[38;5;241;43m+\u001b[39;49m\u001b[38;5;241;43m2\u001b[39;49m)\n",
      "\u001b[1;31mTypeError\u001b[0m: can only concatenate str (not \"int\") to str"
     ]
    }
   ],
   "source": [
    "print(\"Day\"+2)"
   ]
  },
  {
   "cell_type": "markdown",
   "id": "d2d34181",
   "metadata": {},
   "source": [
    "In Python, you cannot directly concatenate a string and an integer using the + operator. Attempting to concatenate a string and an integer directly will result in a TypeError.\n",
    "\n",
    "If you want to concatenate the string \"Day\" with the integer 2 and print the result, you can convert the integer to a string using the str() function before performing the concatenation."
   ]
  },
  {
   "cell_type": "code",
   "execution_count": 35,
   "id": "56176a48",
   "metadata": {},
   "outputs": [
    {
     "name": "stdout",
     "output_type": "stream",
     "text": [
      "Day2\n"
     ]
    }
   ],
   "source": [
    "print(\"Day\"+str(2)) #you can convert int into string but not vice versa"
   ]
  },
  {
   "cell_type": "markdown",
   "id": "3eae67c3",
   "metadata": {},
   "source": [
    "# STRUCTURES"
   ]
  },
  {
   "cell_type": "markdown",
   "id": "36ed0b7a",
   "metadata": {},
   "source": [
    "<span style=\"color:blue\">four built-in (general) data structures in python namely -\n",
    "    \n",
    "    . lists\n",
    "    . dictionaries\n",
    "    . tuples \n",
    "    . sets"
   ]
  },
  {
   "cell_type": "markdown",
   "id": "ff0bc8b5",
   "metadata": {},
   "source": [
    "<span style=\"color:green\">1 List is a collection which is ordered and changeable. Allows duplicate members.              \n",
    "<span style=\"color:green\">2 Tuple is a collection which is ordered and unchangeable. Allows duplicate members.               \n",
    "<span style=\"color:green\">3 Set is a collection which is unordered, unchangeable*, and unindexed. No duplicate members. \n",
    "    \n",
    "<span style=\"color:green\">4 Dictionary is a collection which is ordered** and changeable. No duplicate members."
   ]
  },
  {
   "cell_type": "markdown",
   "id": "bbd20a79",
   "metadata": {},
   "source": [
    "<span style=\"color:blue\">user-defined data structures in python like\n",
    "    \n",
    "stacks,  \n",
    "queues,  \n",
    "trees,    \n",
    "linked lists,   \n",
    "graphs,   \n",
    "hashmaps. "
   ]
  },
  {
   "cell_type": "markdown",
   "id": "7c03e863",
   "metadata": {},
   "source": [
    "# List"
   ]
  },
  {
   "cell_type": "markdown",
   "id": "14a1beb2",
   "metadata": {},
   "source": [
    "<span style=\"color:green\">.Accept all type of Data  \n",
    "    .Lists are created using square brackets   \n",
    "    .Mutable"
   ]
  },
  {
   "cell_type": "markdown",
   "id": "13fd0726",
   "metadata": {},
   "source": [
    "<span style=\"color:blue\">Creating empty List    \n",
    "   \n",
    " -by square bracket or by using list()"
   ]
  },
  {
   "cell_type": "code",
   "execution_count": 36,
   "id": "cc871eea",
   "metadata": {},
   "outputs": [
    {
     "name": "stdout",
     "output_type": "stream",
     "text": [
      "[]\n",
      "[]\n"
     ]
    }
   ],
   "source": [
    "nimo=[]\n",
    "print(nimo)\n",
    "nimo1=list()\n",
    "print(nimo1)"
   ]
  },
  {
   "cell_type": "code",
   "execution_count": 37,
   "id": "65536d60",
   "metadata": {},
   "outputs": [
    {
     "data": {
      "text/plain": [
       "['a', 10, 5.1]"
      ]
     },
     "execution_count": 37,
     "metadata": {},
     "output_type": "execute_result"
    }
   ],
   "source": [
    "ni=[\"a\",10,5.1]\n",
    "ni"
   ]
  },
  {
   "cell_type": "code",
   "execution_count": 46,
   "id": "3c1b6c5d",
   "metadata": {},
   "outputs": [
    {
     "data": {
      "text/plain": [
       "['n', 'i', 'm', 'o']"
      ]
     },
     "execution_count": 46,
     "metadata": {},
     "output_type": "execute_result"
    }
   ],
   "source": [
    "list(\"nimo\")#only for text"
   ]
  },
  {
   "cell_type": "code",
   "execution_count": 39,
   "id": "fedf896e",
   "metadata": {},
   "outputs": [
    {
     "ename": "TypeError",
     "evalue": "list expected at most 1 argument, got 3",
     "output_type": "error",
     "traceback": [
      "\u001b[1;31m---------------------------------------------------------------------------\u001b[0m",
      "\u001b[1;31mTypeError\u001b[0m                                 Traceback (most recent call last)",
      "Input \u001b[1;32mIn [39]\u001b[0m, in \u001b[0;36m<cell line: 1>\u001b[1;34m()\u001b[0m\n\u001b[1;32m----> 1\u001b[0m ni\u001b[38;5;241m=\u001b[39m\u001b[38;5;28;43mlist\u001b[39;49m\u001b[43m(\u001b[49m\u001b[38;5;124;43m\"\u001b[39;49m\u001b[38;5;124;43ma\u001b[39;49m\u001b[38;5;124;43m\"\u001b[39;49m\u001b[43m,\u001b[49m\u001b[38;5;241;43m10\u001b[39;49m\u001b[43m,\u001b[49m\u001b[38;5;241;43m5.1\u001b[39;49m\u001b[43m)\u001b[49m \u001b[38;5;66;03m#list expected at most 1 argument, but here we got 3,hence error occured\u001b[39;00m\n\u001b[0;32m      2\u001b[0m ni\n",
      "\u001b[1;31mTypeError\u001b[0m: list expected at most 1 argument, got 3"
     ]
    }
   ],
   "source": [
    "ni=list(\"a\",10,5.1) #list expected at most 1 argument, but here we got 3,hence error occured\n",
    "ni"
   ]
  },
  {
   "cell_type": "code",
   "execution_count": 40,
   "id": "0e1ffa81",
   "metadata": {},
   "outputs": [
    {
     "name": "stdout",
     "output_type": "stream",
     "text": [
      "['apple', 'banana', 'cherry']\n"
     ]
    }
   ],
   "source": [
    "thislist = list((\"apple\", \"banana\", \"cherry\")) # note the double round-brackets\n",
    "print(thislist)"
   ]
  },
  {
   "cell_type": "markdown",
   "id": "fb6c62ef",
   "metadata": {},
   "source": [
    "<span style=\"color:blue\">Copying list to another list"
   ]
  },
  {
   "cell_type": "code",
   "execution_count": 44,
   "id": "e4e93434",
   "metadata": {},
   "outputs": [
    {
     "data": {
      "text/plain": [
       "['apple', 'banana', 'cherry']"
      ]
     },
     "execution_count": 44,
     "metadata": {},
     "output_type": "execute_result"
    }
   ],
   "source": [
    "# first way to copy list\n",
    "mo=list(thislist)\n",
    "mo"
   ]
  },
  {
   "cell_type": "code",
   "execution_count": 45,
   "id": "b7ecbf90",
   "metadata": {},
   "outputs": [
    {
     "data": {
      "text/plain": [
       "['apple', 'banana', 'cherry']"
      ]
     },
     "execution_count": 45,
     "metadata": {},
     "output_type": "execute_result"
    }
   ],
   "source": [
    "# second way to copy list\n",
    "mo=thislist.copy()\n",
    "mo"
   ]
  },
  {
   "cell_type": "code",
   "execution_count": 49,
   "id": "34622e8e",
   "metadata": {},
   "outputs": [
    {
     "ename": "TypeError",
     "evalue": "'int' object is not iterable",
     "output_type": "error",
     "traceback": [
      "\u001b[1;31m---------------------------------------------------------------------------\u001b[0m",
      "\u001b[1;31mTypeError\u001b[0m                                 Traceback (most recent call last)",
      "Input \u001b[1;32mIn [49]\u001b[0m, in \u001b[0;36m<cell line: 1>\u001b[1;34m()\u001b[0m\n\u001b[1;32m----> 1\u001b[0m \u001b[38;5;28;43mlist\u001b[39;49m\u001b[43m(\u001b[49m\u001b[38;5;241;43m4856\u001b[39;49m\u001b[43m)\u001b[49m\n",
      "\u001b[1;31mTypeError\u001b[0m: 'int' object is not iterable"
     ]
    }
   ],
   "source": [
    "list(4856)"
   ]
  },
  {
   "cell_type": "markdown",
   "id": "5a2e850c",
   "metadata": {},
   "source": [
    "'''In Python, you cannot directly convert an integer into a list using the list() function, \n",
    "   as it expects an iterable as an argument, and integers are not iterable'''"
   ]
  },
  {
   "cell_type": "markdown",
   "id": "9e10fe6b",
   "metadata": {},
   "source": [
    "<span style=\"color:blue\">SOME methods are-"
   ]
  },
  {
   "cell_type": "markdown",
   "id": "850bdef4",
   "metadata": {},
   "source": [
    "<span style=\"color:green\"> APPEND - add element data at last position"
   ]
  },
  {
   "cell_type": "code",
   "execution_count": 52,
   "id": "54292646",
   "metadata": {},
   "outputs": [
    {
     "name": "stdout",
     "output_type": "stream",
     "text": [
      "['nimo']\n"
     ]
    }
   ],
   "source": [
    "employee=[] #creating empty list\n",
    "\n",
    "employee.append(\"nimo\")\n",
    "\n",
    "print(employee)\n"
   ]
  },
  {
   "cell_type": "code",
   "execution_count": 53,
   "id": "e770946f",
   "metadata": {},
   "outputs": [
    {
     "name": "stdout",
     "output_type": "stream",
     "text": [
      "['nimo', 'sud', 'shiv']\n"
     ]
    }
   ],
   "source": [
    "employee.append(\"sud\")\n",
    "employee.append(\"shiv\")\n",
    "print(employee)\n"
   ]
  },
  {
   "cell_type": "markdown",
   "id": "a9610467",
   "metadata": {},
   "source": [
    "<span style=\"color:green\">INDEX AND INSERT -add data on desired index    \n",
    "    syntax= insert(index,element)"
   ]
  },
  {
   "cell_type": "code",
   "execution_count": 54,
   "id": "45bdbc38",
   "metadata": {},
   "outputs": [
    {
     "name": "stdout",
     "output_type": "stream",
     "text": [
      "['nimo', 'priyanka', 'sud', 'shiv', 'sonam']\n"
     ]
    }
   ],
   "source": [
    "employee.insert(1,\"priyanka\")\n",
    "employee.insert(5,\"sonam\")\n",
    "print(employee)"
   ]
  },
  {
   "cell_type": "markdown",
   "id": "1729d498",
   "metadata": {},
   "source": [
    "<span style=\"color:green\"> len()- to check the length of list"
   ]
  },
  {
   "cell_type": "code",
   "execution_count": 55,
   "id": "9a834c6c",
   "metadata": {},
   "outputs": [
    {
     "data": {
      "text/plain": [
       "5"
      ]
     },
     "execution_count": 55,
     "metadata": {},
     "output_type": "execute_result"
    }
   ],
   "source": [
    "len(employee)"
   ]
  },
  {
   "cell_type": "markdown",
   "id": "6a506a06",
   "metadata": {},
   "source": [
    "<span style=\"color:green\">INDEXING & SLICING"
   ]
  },
  {
   "cell_type": "code",
   "execution_count": 56,
   "id": "7b2ecd19",
   "metadata": {},
   "outputs": [
    {
     "data": {
      "text/plain": [
       "'priyanka'"
      ]
     },
     "execution_count": 56,
     "metadata": {},
     "output_type": "execute_result"
    }
   ],
   "source": [
    "# FETCH ANY ELEMENT\n",
    "\n",
    "employee[1] "
   ]
  },
  {
   "cell_type": "code",
   "execution_count": 57,
   "id": "527efa60",
   "metadata": {},
   "outputs": [
    {
     "name": "stdout",
     "output_type": "stream",
     "text": [
      "['nimo', 'sakhi', 'sud', 'shiv', 'sonam']\n"
     ]
    }
   ],
   "source": [
    "#REASSIGNING THE NAME/UPDATE\n",
    "\n",
    "employee[1] =\"sakhi\"\n",
    "print(employee)"
   ]
  },
  {
   "cell_type": "code",
   "execution_count": 58,
   "id": "7c325073",
   "metadata": {},
   "outputs": [
    {
     "data": {
      "text/plain": [
       "[200, 300, 400, 500]"
      ]
     },
     "execution_count": 58,
     "metadata": {},
     "output_type": "execute_result"
    }
   ],
   "source": [
    "# FETCHING MULTIPLE/RANGE DATA\n",
    "\n",
    "emp_salary=[100,200,300,400,500]\n",
    "emp_salary[1:]\n"
   ]
  },
  {
   "cell_type": "code",
   "execution_count": 59,
   "id": "40d92b7d",
   "metadata": {},
   "outputs": [
    {
     "data": {
      "text/plain": [
       "[300]"
      ]
     },
     "execution_count": 59,
     "metadata": {},
     "output_type": "execute_result"
    }
   ],
   "source": [
    "emp_salary[2:3]\n"
   ]
  },
  {
   "cell_type": "code",
   "execution_count": 60,
   "id": "18f11b55",
   "metadata": {},
   "outputs": [
    {
     "data": {
      "text/plain": [
       "[100, 200, 300]"
      ]
     },
     "execution_count": 60,
     "metadata": {},
     "output_type": "execute_result"
    }
   ],
   "source": [
    "emp_salary[:3]"
   ]
  },
  {
   "cell_type": "code",
   "execution_count": 61,
   "id": "7beb0246",
   "metadata": {},
   "outputs": [
    {
     "data": {
      "text/plain": [
       "[100, 200, 300, 400, 500, 800]"
      ]
     },
     "execution_count": 61,
     "metadata": {},
     "output_type": "execute_result"
    }
   ],
   "source": [
    "#CANCATENATION THE DATA\n",
    "\n",
    "emp_salary= emp_salary + [800]\n",
    "emp_salary"
   ]
  },
  {
   "cell_type": "markdown",
   "id": "982d3285",
   "metadata": {},
   "source": [
    "<span style=\"color:green\">COUNT-Frequency of element"
   ]
  },
  {
   "cell_type": "code",
   "execution_count": 62,
   "id": "f6ad9179",
   "metadata": {},
   "outputs": [
    {
     "data": {
      "text/plain": [
       "4"
      ]
     },
     "execution_count": 62,
     "metadata": {},
     "output_type": "execute_result"
    }
   ],
   "source": [
    "num=[1,1,2,1,5,6,4,1,0]\n",
    "num.count(1)"
   ]
  },
  {
   "cell_type": "markdown",
   "id": "fd50158f",
   "metadata": {},
   "source": [
    "<span style=\"color:green\">INDEX-to get the index no. by element "
   ]
  },
  {
   "cell_type": "code",
   "execution_count": 63,
   "id": "ba7eb249",
   "metadata": {},
   "outputs": [
    {
     "data": {
      "text/plain": [
       "0"
      ]
     },
     "execution_count": 63,
     "metadata": {},
     "output_type": "execute_result"
    }
   ],
   "source": [
    "num.index(1) # here 1 occurs  4 times but python identify the 1st one"
   ]
  },
  {
   "cell_type": "markdown",
   "id": "c12be444",
   "metadata": {},
   "source": [
    "<span style=\"color:green\">EXTEND-extends list by appending elements from the literals"
   ]
  },
  {
   "cell_type": "code",
   "execution_count": 64,
   "id": "ca522741",
   "metadata": {},
   "outputs": [
    {
     "data": {
      "text/plain": [
       "[1, 1, 2, 1, 5, 6, 4, 1, 0, 'roma', 'nitin']"
      ]
     },
     "execution_count": 64,
     "metadata": {},
     "output_type": "execute_result"
    }
   ],
   "source": [
    "num=[1,1,2,1,5,6,4,1,0]\n",
    "num.extend([\"roma\",\"nitin\"])\n",
    "num"
   ]
  },
  {
   "cell_type": "markdown",
   "id": "c462270a",
   "metadata": {},
   "source": [
    "<span style=\"color:BLUE\">.append() adds an element to a list,\n",
    "whereas .extend() concatenates the first list with another list/iterable."
   ]
  },
  {
   "cell_type": "code",
   "execution_count": 65,
   "id": "3685a248",
   "metadata": {},
   "outputs": [
    {
     "data": {
      "text/plain": [
       "[1, 1, 2, 1, 5, 6, 4, 1, 0, 'roma', 'nitin', 'D', 'O', 'N']"
      ]
     },
     "execution_count": 65,
     "metadata": {},
     "output_type": "execute_result"
    }
   ],
   "source": [
    "num.extend(\"DON\")\n",
    "num"
   ]
  },
  {
   "cell_type": "markdown",
   "id": "5e47fc4a",
   "metadata": {},
   "source": [
    "<span style=\"color:BLUE\">Keep in mind that a string is an iterable, so if you extend a list with a string, you'll append each character as you iterate over the string (which may not be what you want):"
   ]
  },
  {
   "cell_type": "code",
   "execution_count": 66,
   "id": "0a2ed8c7",
   "metadata": {},
   "outputs": [
    {
     "data": {
      "text/plain": [
       "[1, 1, 2, 1, 5, 6, 4, 1, 0, 'roma', 'nitin', 'D', 'O', 'N', 'DON']"
      ]
     },
     "execution_count": 66,
     "metadata": {},
     "output_type": "execute_result"
    }
   ],
   "source": [
    "num.extend([\"DON\"])\n",
    "num"
   ]
  },
  {
   "cell_type": "markdown",
   "id": "7b3635c7",
   "metadata": {},
   "source": [
    "<span style=\"color:green\">POP- deleting the last element from the list by default if we not \n",
    "mentioning the index no."
   ]
  },
  {
   "cell_type": "code",
   "execution_count": 67,
   "id": "b49892ab",
   "metadata": {},
   "outputs": [
    {
     "data": {
      "text/plain": [
       "[1, 1, 2, 1, 5, 6, 4, 1, 0, 'roma', 'nitin', 'D', 'O', 'N', 'DON']"
      ]
     },
     "execution_count": 67,
     "metadata": {},
     "output_type": "execute_result"
    }
   ],
   "source": [
    "num"
   ]
  },
  {
   "cell_type": "code",
   "execution_count": 68,
   "id": "705baba3",
   "metadata": {},
   "outputs": [
    {
     "data": {
      "text/plain": [
       "'DON'"
      ]
     },
     "execution_count": 68,
     "metadata": {},
     "output_type": "execute_result"
    }
   ],
   "source": [
    "num.pop()"
   ]
  },
  {
   "cell_type": "code",
   "execution_count": 69,
   "id": "c519a77b",
   "metadata": {},
   "outputs": [
    {
     "data": {
      "text/plain": [
       "[1, 1, 2, 1, 5, 6, 4, 1, 0, 'roma', 'nitin', 'D', 'O', 'N']"
      ]
     },
     "execution_count": 69,
     "metadata": {},
     "output_type": "execute_result"
    }
   ],
   "source": [
    "num"
   ]
  },
  {
   "cell_type": "code",
   "execution_count": 70,
   "id": "c0f06f36",
   "metadata": {},
   "outputs": [
    {
     "name": "stdout",
     "output_type": "stream",
     "text": [
      "2\n",
      "[1, 1, 1, 5, 6, 4, 1, 0, 'roma', 'nitin', 'D', 'O', 'N']\n"
     ]
    }
   ],
   "source": [
    "print(num.pop(2))\n",
    "print(num)"
   ]
  },
  {
   "cell_type": "markdown",
   "id": "ce47ea8d",
   "metadata": {},
   "source": [
    "<span style=\"color:green\"> REMOVE -Remove the first occurence of a value , i.e remooval of dublicate no. "
   ]
  },
  {
   "cell_type": "code",
   "execution_count": 71,
   "id": "1fac167b",
   "metadata": {},
   "outputs": [
    {
     "data": {
      "text/plain": [
       "[1, 1, 5, 6, 4, 1, 0, 'roma', 'nitin', 'D', 'O', 'N']"
      ]
     },
     "execution_count": 71,
     "metadata": {},
     "output_type": "execute_result"
    }
   ],
   "source": [
    "num.remove(1)\n",
    "num"
   ]
  },
  {
   "cell_type": "markdown",
   "id": "db146fd9",
   "metadata": {},
   "source": [
    "<span style=\"color:green\"> REVERSE-Usedto reverse the list"
   ]
  },
  {
   "cell_type": "code",
   "execution_count": 72,
   "id": "26faa3f4",
   "metadata": {},
   "outputs": [
    {
     "name": "stdout",
     "output_type": "stream",
     "text": [
      "[50, 9, 8, 5, 2, 1]\n"
     ]
    }
   ],
   "source": [
    "new_num = [1,2,5,8,9,50]\n",
    "new_num.reverse()\n",
    "print(new_num)\n"
   ]
  },
  {
   "cell_type": "markdown",
   "id": "65f4fcfe",
   "metadata": {},
   "source": [
    "<span style=\"color:green\">SORT-it will sort your list.\n",
    "#by default sort in ascending order "
   ]
  },
  {
   "cell_type": "code",
   "execution_count": 73,
   "id": "05931cdf",
   "metadata": {},
   "outputs": [
    {
     "data": {
      "text/plain": [
       "[5, 60, 50, 40, 22]"
      ]
     },
     "execution_count": 73,
     "metadata": {},
     "output_type": "execute_result"
    }
   ],
   "source": [
    "num1=[5,60,50,40,22]\n",
    "num1"
   ]
  },
  {
   "cell_type": "code",
   "execution_count": 74,
   "id": "d0f5cfb8",
   "metadata": {},
   "outputs": [
    {
     "data": {
      "text/plain": [
       "[5, 22, 40, 50, 60]"
      ]
     },
     "execution_count": 74,
     "metadata": {},
     "output_type": "execute_result"
    }
   ],
   "source": [
    "num1.sort()\n",
    "num1"
   ]
  },
  {
   "cell_type": "code",
   "execution_count": 75,
   "id": "c6484446",
   "metadata": {},
   "outputs": [
    {
     "data": {
      "text/plain": [
       "[60, 50, 40, 22, 5]"
      ]
     },
     "execution_count": 75,
     "metadata": {},
     "output_type": "execute_result"
    }
   ],
   "source": [
    "#sort in decending order\n",
    "num1.sort(reverse=True)\n",
    "num1"
   ]
  },
  {
   "cell_type": "markdown",
   "id": "5ec0dc2f",
   "metadata": {},
   "source": [
    "# LIST(PRACTISE)"
   ]
  },
  {
   "cell_type": "code",
   "execution_count": 76,
   "id": "89f36a75",
   "metadata": {},
   "outputs": [
    {
     "data": {
      "text/plain": [
       "15"
      ]
     },
     "execution_count": 76,
     "metadata": {},
     "output_type": "execute_result"
    }
   ],
   "source": [
    "list1 = [1, 5, 9]\n",
    "sum(list1)"
   ]
  },
  {
   "cell_type": "code",
   "execution_count": 77,
   "id": "58350ab0",
   "metadata": {},
   "outputs": [
    {
     "name": "stdout",
     "output_type": "stream",
     "text": [
      "[1, 2, 3, 4]\n",
      "None\n"
     ]
    }
   ],
   "source": [
    "a=[1,2,3]\n",
    "b=a.append(4)\n",
    "print(a)\n",
    "print(b)\n",
    "#Explanation: Append function on lists doesn’t return anything. Thus the value of b is None."
   ]
  },
  {
   "cell_type": "code",
   "execution_count": 78,
   "id": "9ae87b23",
   "metadata": {},
   "outputs": [
    {
     "data": {
      "text/plain": [
       "False"
      ]
     },
     "execution_count": 78,
     "metadata": {},
     "output_type": "execute_result"
    }
   ],
   "source": [
    "a=[14,52,7]\n",
    "b=a.copy()\n",
    "b is a\n",
    "#Explanation: List b is just a copy of the original list. Any copy made in list b will not be reflected in list a."
   ]
  },
  {
   "cell_type": "code",
   "execution_count": 79,
   "id": "d8397bbc",
   "metadata": {},
   "outputs": [
    {
     "name": "stdout",
     "output_type": "stream",
     "text": [
      "[13, 56, 17, [87], 45, 67]\n"
     ]
    }
   ],
   "source": [
    "a=[13,56,17]\n",
    "a.append([87])\n",
    "a.extend([45,67])\n",
    "print(a)"
   ]
  },
  {
   "cell_type": "code",
   "execution_count": 80,
   "id": "e6e0d63c",
   "metadata": {},
   "outputs": [
    {
     "ename": "SyntaxError",
     "evalue": "EOL while scanning string literal (483877549.py, line 7)",
     "output_type": "error",
     "traceback": [
      "\u001b[1;36m  Input \u001b[1;32mIn [80]\u001b[1;36m\u001b[0m\n\u001b[1;33m    \"IS operator checks whether both operands refer to the same memory location or not.\u001b[0m\n\u001b[1;37m                                                                                        ^\u001b[0m\n\u001b[1;31mSyntaxError\u001b[0m\u001b[1;31m:\u001b[0m EOL while scanning string literal\n"
     ]
    }
   ],
   "source": [
    "word1=\"Apple\"\n",
    "word2=\"Apple\"\n",
    "list1=[1,2,3]\n",
    "list2=[1,2,3]\n",
    "print(word1 is word2)\n",
    "print(list1 is list2)\n",
    "\"IS operator checks whether both operands refer to the same memory location or not. \n",
    "\"EQUALITY(==) just compare the values of both operands equal or not\n",
    "\"if u assign list1 = list 2 in above you use IS operator (list1 is list2) it will give TRUE\""
   ]
  },
  {
   "cell_type": "code",
   "execution_count": 81,
   "id": "55f14e3b",
   "metadata": {},
   "outputs": [
    {
     "name": "stdout",
     "output_type": "stream",
     "text": [
      "[[0.5, 0.5], [1, 2], [3, 1.5]]\n"
     ]
    }
   ],
   "source": [
    "points = [[1, 2], [3, 1.5], [0.5, 0.5]]\n",
    "points.sort()\n",
    "print(points)"
   ]
  },
  {
   "cell_type": "code",
   "execution_count": 82,
   "id": "abbe44e5",
   "metadata": {},
   "outputs": [
    {
     "name": "stdout",
     "output_type": "stream",
     "text": [
      "5\n"
     ]
    }
   ],
   "source": [
    "data = [[[1, 2], [3, 4]], [[5, 6], [7, 8]]]\n",
    " \n",
    "print(data[1][0][0])"
   ]
  },
  {
   "cell_type": "code",
   "execution_count": 83,
   "id": "7a34ffaa",
   "metadata": {},
   "outputs": [
    {
     "name": "stdout",
     "output_type": "stream",
     "text": [
      "5\n"
     ]
    }
   ],
   "source": [
    "numbers = [1, 2, 3, 4]\n",
    " \n",
    "numbers.append([5,6,7,8])\n",
    " \n",
    "print(len(numbers))"
   ]
  },
  {
   "cell_type": "code",
   "execution_count": 84,
   "id": "f9abc21e",
   "metadata": {},
   "outputs": [
    {
     "name": "stdout",
     "output_type": "stream",
     "text": [
      "['Kiwi', 'Orange', 'banana', 'cherry']\n"
     ]
    }
   ],
   "source": [
    "thislist = [\"banana\", \"Orange\", \"Kiwi\", \"cherry\"]\n",
    "thislist.sort()\n",
    "print(thislist)"
   ]
  },
  {
   "cell_type": "markdown",
   "id": "74b4e1b5",
   "metadata": {},
   "source": [
    "\"After applying the sort() method to the list, the elements are arranged in ascending order\n",
    " based on their lexicographical order. Therefore, \"Kiwi\" comes before \"Orange,\" which comes before \"banana,\" \n",
    " and finally \"cherry\" comes last.\"\n",
    " In lexicographical order, uppercase letters are considered before lowercase letters."
   ]
  },
  {
   "cell_type": "markdown",
   "id": "4857b44a",
   "metadata": {},
   "source": [
    "# TUPLES "
   ]
  },
  {
   "cell_type": "markdown",
   "id": "921d951d",
   "metadata": {},
   "source": [
    "-Inside in ()\n",
    "-accept all type of Data\n",
    "-but is immutable(cant change)"
   ]
  },
  {
   "cell_type": "code",
   "execution_count": 85,
   "id": "ca144697",
   "metadata": {},
   "outputs": [
    {
     "ename": "AttributeError",
     "evalue": "'tuple' object has no attribute 'append'",
     "output_type": "error",
     "traceback": [
      "\u001b[1;31m---------------------------------------------------------------------------\u001b[0m",
      "\u001b[1;31mAttributeError\u001b[0m                            Traceback (most recent call last)",
      "Input \u001b[1;32mIn [85]\u001b[0m, in \u001b[0;36m<cell line: 2>\u001b[1;34m()\u001b[0m\n\u001b[0;32m      1\u001b[0m work\u001b[38;5;241m=\u001b[39m(\u001b[38;5;124m\"\u001b[39m\u001b[38;5;124mdelhi\u001b[39m\u001b[38;5;124m\"\u001b[39m,\u001b[38;5;124m\"\u001b[39m\u001b[38;5;124mmumbai\u001b[39m\u001b[38;5;124m\"\u001b[39m,\u001b[38;5;124m\"\u001b[39m\u001b[38;5;124mkatihar\u001b[39m\u001b[38;5;124m\"\u001b[39m,\u001b[38;5;124m\"\u001b[39m\u001b[38;5;124mpatna\u001b[39m\u001b[38;5;124m\"\u001b[39m)\n\u001b[1;32m----> 2\u001b[0m \u001b[43mwork\u001b[49m\u001b[38;5;241;43m.\u001b[39;49m\u001b[43mappend\u001b[49m(\u001b[38;5;124m\"\u001b[39m\u001b[38;5;124mkolkata\u001b[39m\u001b[38;5;124m\"\u001b[39m)\n\u001b[0;32m      3\u001b[0m work\n",
      "\u001b[1;31mAttributeError\u001b[0m: 'tuple' object has no attribute 'append'"
     ]
    }
   ],
   "source": [
    "work=(\"delhi\",\"mumbai\",\"katihar\",\"patna\")\n",
    "work.append(\"kolkata\")\n",
    "work"
   ]
  },
  {
   "cell_type": "markdown",
   "id": "0bec8620",
   "metadata": {},
   "source": [
    "<span style=\"color:BLUE\">Becoz tuple is immutable.first change Tuple in list"
   ]
  },
  {
   "cell_type": "code",
   "execution_count": 86,
   "id": "d111ba9f",
   "metadata": {},
   "outputs": [
    {
     "data": {
      "text/plain": [
       "('delhi', 'mumbai', 'katihar', 'patna', 'kolkata')"
      ]
     },
     "execution_count": 86,
     "metadata": {},
     "output_type": "execute_result"
    }
   ],
   "source": [
    "#converting tuple into list\n",
    "work=(\"delhi\",\"mumbai\",\"katihar\",\"patna\")\n",
    "work=list(work)\n",
    "work.append(\"kolkata\")\n",
    "work=tuple(work)#converting list into tuple\n",
    "work"
   ]
  },
  {
   "cell_type": "code",
   "execution_count": 87,
   "id": "a8484ecc",
   "metadata": {},
   "outputs": [
    {
     "data": {
      "text/plain": [
       "('delhi', 'bhopal', 'katihar', 'patna')"
      ]
     },
     "execution_count": 87,
     "metadata": {},
     "output_type": "execute_result"
    }
   ],
   "source": [
    "#change the data\n",
    "work=(\"delhi\",\"mumbai\",\"katihar\",\"patna\")\n",
    "work=list(work)\n",
    "work[1]=\"bhopal\"\n",
    "work=tuple(work)#converting list into tuple\n",
    "work"
   ]
  },
  {
   "cell_type": "code",
   "execution_count": 88,
   "id": "a5ecdb56",
   "metadata": {},
   "outputs": [
    {
     "data": {
      "text/plain": [
       "4"
      ]
     },
     "execution_count": 88,
     "metadata": {},
     "output_type": "execute_result"
    }
   ],
   "source": [
    "len(work)"
   ]
  },
  {
   "cell_type": "markdown",
   "id": "b0a3f7b8",
   "metadata": {},
   "source": [
    "<span style=\"color:green\">ONLY TWO METHOD OF TUPLE   -                 \n",
    "INDEX AND COUNT"
   ]
  },
  {
   "cell_type": "code",
   "execution_count": 89,
   "id": "a0dc5026",
   "metadata": {},
   "outputs": [
    {
     "data": {
      "text/plain": [
       "1"
      ]
     },
     "execution_count": 89,
     "metadata": {},
     "output_type": "execute_result"
    }
   ],
   "source": [
    "num=(20,21,22,20)\n",
    "num.index(21)"
   ]
  },
  {
   "cell_type": "code",
   "execution_count": 90,
   "id": "6f040e51",
   "metadata": {},
   "outputs": [
    {
     "data": {
      "text/plain": [
       "2"
      ]
     },
     "execution_count": 90,
     "metadata": {},
     "output_type": "execute_result"
    }
   ],
   "source": [
    "num.count(20)"
   ]
  },
  {
   "cell_type": "markdown",
   "id": "6b708860",
   "metadata": {},
   "source": [
    "<span style=\"color:green\">Add tuple to a tuple. You are allowed to add tuples to tuples, so if you want to add one item, (or many), create a new tuple with the item(s), and add it to the existing tuple:"
   ]
  },
  {
   "cell_type": "code",
   "execution_count": 91,
   "id": "1bc37841",
   "metadata": {},
   "outputs": [
    {
     "name": "stdout",
     "output_type": "stream",
     "text": [
      "('apple', 'banana', 'cherry', 'orange')\n"
     ]
    }
   ],
   "source": [
    "thistuple = (\"apple\", \"banana\", \"cherry\")\n",
    "y = (\"orange\",)\n",
    "thistuple += y\n",
    "\n",
    "print(thistuple)"
   ]
  },
  {
   "cell_type": "markdown",
   "id": "22983919",
   "metadata": {},
   "source": [
    "<span style=\"color:green\">The del keyword can delete the tuple completely:"
   ]
  },
  {
   "cell_type": "code",
   "execution_count": 92,
   "id": "0e48559c",
   "metadata": {},
   "outputs": [
    {
     "ename": "NameError",
     "evalue": "name 'thistuple' is not defined",
     "output_type": "error",
     "traceback": [
      "\u001b[1;31m---------------------------------------------------------------------------\u001b[0m",
      "\u001b[1;31mNameError\u001b[0m                                 Traceback (most recent call last)",
      "Input \u001b[1;32mIn [92]\u001b[0m, in \u001b[0;36m<cell line: 3>\u001b[1;34m()\u001b[0m\n\u001b[0;32m      1\u001b[0m thistuple \u001b[38;5;241m=\u001b[39m (\u001b[38;5;124m\"\u001b[39m\u001b[38;5;124mapple\u001b[39m\u001b[38;5;124m\"\u001b[39m, \u001b[38;5;124m\"\u001b[39m\u001b[38;5;124mbanana\u001b[39m\u001b[38;5;124m\"\u001b[39m, \u001b[38;5;124m\"\u001b[39m\u001b[38;5;124mcherry\u001b[39m\u001b[38;5;124m\"\u001b[39m)\n\u001b[0;32m      2\u001b[0m \u001b[38;5;28;01mdel\u001b[39;00m thistuple\n\u001b[1;32m----> 3\u001b[0m \u001b[38;5;28mprint\u001b[39m(\u001b[43mthistuple\u001b[49m)\n",
      "\u001b[1;31mNameError\u001b[0m: name 'thistuple' is not defined"
     ]
    }
   ],
   "source": [
    "thistuple = (\"apple\", \"banana\", \"cherry\")\n",
    "del thistuple\n",
    "print(thistuple) #this will raise an error because the tuple no longer exists\n"
   ]
  },
  {
   "cell_type": "markdown",
   "id": "002c68c8",
   "metadata": {},
   "source": [
    "# PRACTISE TUPLE"
   ]
  },
  {
   "cell_type": "markdown",
   "id": "41817bc1",
   "metadata": {},
   "source": [
    "To create a tuple with only one item, you have to add a comma after the item, otherwise Python will not recognize it as a tuple."
   ]
  },
  {
   "cell_type": "code",
   "execution_count": 93,
   "id": "e92eb1b8",
   "metadata": {},
   "outputs": [
    {
     "name": "stdout",
     "output_type": "stream",
     "text": [
      "<class 'tuple'>\n",
      "<class 'str'>\n"
     ]
    }
   ],
   "source": [
    "thistuple = (\"apple\",)\n",
    "print(type(thistuple))\n",
    "\n",
    "#NOT a tuple\n",
    "thistuple = (\"apple\")\n",
    "print(type(thistuple))"
   ]
  },
  {
   "cell_type": "code",
   "execution_count": null,
   "id": "a89629ca",
   "metadata": {},
   "outputs": [],
   "source": []
  },
  {
   "cell_type": "markdown",
   "id": "d0c21c99",
   "metadata": {},
   "source": [
    "# SETS"
   ]
  },
  {
   "cell_type": "markdown",
   "id": "f36cd59d",
   "metadata": {},
   "source": [
    "<span style=\"color:green\">-No dublicate     \n",
    "-arrange in assending order           \n",
    "  -mutable    \n",
    "    Note: Sets are unordered, so you cannot be sure in which order the items will appear."
   ]
  },
  {
   "cell_type": "code",
   "execution_count": 94,
   "id": "c992ec66",
   "metadata": {},
   "outputs": [],
   "source": [
    "#create empty set \n",
    "roll_num=set()"
   ]
  },
  {
   "cell_type": "markdown",
   "id": "77de50c1",
   "metadata": {},
   "source": [
    "<span style=\"color:blue\">Change Items--------\n",
    "Once a set is created, you cannot change its items, but you can add new items."
   ]
  },
  {
   "cell_type": "markdown",
   "id": "a13d6487",
   "metadata": {},
   "source": [
    "<span style=\"color:blue\">add() method-"
   ]
  },
  {
   "cell_type": "code",
   "execution_count": 95,
   "id": "e14ffd42",
   "metadata": {},
   "outputs": [
    {
     "data": {
      "text/plain": [
       "{1}"
      ]
     },
     "execution_count": 95,
     "metadata": {},
     "output_type": "execute_result"
    }
   ],
   "source": [
    "roll_num.add(1)\n",
    "roll_num"
   ]
  },
  {
   "cell_type": "code",
   "execution_count": 96,
   "id": "23dacc0f",
   "metadata": {
    "scrolled": true
   },
   "outputs": [
    {
     "data": {
      "text/plain": [
       "{1, 2, 4, 6}"
      ]
     },
     "execution_count": 96,
     "metadata": {},
     "output_type": "execute_result"
    }
   ],
   "source": [
    "roll_num.add(4)\n",
    "roll_num.add(6)\n",
    "roll_num.add(2)\n",
    "roll_num"
   ]
  },
  {
   "cell_type": "code",
   "execution_count": 97,
   "id": "7eba8b2a",
   "metadata": {},
   "outputs": [
    {
     "data": {
      "text/plain": [
       "{1, 2, 4, 6}"
      ]
     },
     "execution_count": 97,
     "metadata": {},
     "output_type": "execute_result"
    }
   ],
   "source": [
    "roll_num.add(4)#repetion is not allowed\n",
    "roll_num"
   ]
  },
  {
   "cell_type": "markdown",
   "id": "b37e5cc2",
   "metadata": {},
   "source": [
    "<span style=\"color:blue\">To add more than one item to a set use the update() method."
   ]
  },
  {
   "cell_type": "code",
   "execution_count": 98,
   "id": "2326fa50",
   "metadata": {},
   "outputs": [
    {
     "data": {
      "text/plain": [
       "{1, 2, 4, 6, 10, 11, 22}"
      ]
     },
     "execution_count": 98,
     "metadata": {},
     "output_type": "execute_result"
    }
   ],
   "source": [
    "roll_num.update({10,11,22})\n",
    "roll_num"
   ]
  },
  {
   "cell_type": "markdown",
   "id": "fc648962",
   "metadata": {},
   "source": [
    "<span style=\"color:blue\">Remove Item-\n",
    "To remove an item in a set, use the remove(), or the discard() method."
   ]
  },
  {
   "cell_type": "code",
   "execution_count": 99,
   "id": "8e61d289",
   "metadata": {},
   "outputs": [
    {
     "name": "stdout",
     "output_type": "stream",
     "text": [
      "{'cherry', 'apple'}\n"
     ]
    }
   ],
   "source": [
    "rm_set = {\"apple\", \"banana\", \"cherry\"}\n",
    "\n",
    "rm_set.remove(\"banana\")\n",
    "\n",
    "print(rm_set)    # Output: {\"apple\", \"cherry\"} order of element is changing everytimes"
   ]
  },
  {
   "cell_type": "markdown",
   "id": "faa361ca",
   "metadata": {},
   "source": [
    "<span style=\"color:green\"> Note: If the item to remove does not exist, remove() will raise an error."
   ]
  },
  {
   "cell_type": "code",
   "execution_count": 100,
   "id": "467a15c3",
   "metadata": {},
   "outputs": [
    {
     "ename": "KeyError",
     "evalue": "'kela'",
     "output_type": "error",
     "traceback": [
      "\u001b[1;31m---------------------------------------------------------------------------\u001b[0m",
      "\u001b[1;31mKeyError\u001b[0m                                  Traceback (most recent call last)",
      "Input \u001b[1;32mIn [100]\u001b[0m, in \u001b[0;36m<cell line: 1>\u001b[1;34m()\u001b[0m\n\u001b[1;32m----> 1\u001b[0m \u001b[43mrm_set\u001b[49m\u001b[38;5;241;43m.\u001b[39;49m\u001b[43mremove\u001b[49m\u001b[43m(\u001b[49m\u001b[38;5;124;43m\"\u001b[39;49m\u001b[38;5;124;43mkela\u001b[39;49m\u001b[38;5;124;43m\"\u001b[39;49m\u001b[43m)\u001b[49m\n\u001b[0;32m      2\u001b[0m \u001b[38;5;28mprint\u001b[39m(rm_set)\n",
      "\u001b[1;31mKeyError\u001b[0m: 'kela'"
     ]
    }
   ],
   "source": [
    "rm_set.remove(\"kela\")\n",
    "print(rm_set)"
   ]
  },
  {
   "cell_type": "markdown",
   "id": "b90c2685",
   "metadata": {},
   "source": [
    "Remove “kela” by using the discard() method:"
   ]
  },
  {
   "cell_type": "code",
   "execution_count": 101,
   "id": "ba66af12",
   "metadata": {},
   "outputs": [
    {
     "name": "stdout",
     "output_type": "stream",
     "text": [
      "{'cherry', 'apple'}\n"
     ]
    }
   ],
   "source": [
    "rm_set.discard(\"kela\") #Note: If the item to remove does not exist, discard() will NOT raise an error.\n",
    "print(rm_set)"
   ]
  },
  {
   "cell_type": "markdown",
   "id": "c5979a78",
   "metadata": {},
   "source": [
    "<span style=\"color:blue\">How to remove the dublicate in List?           \n",
    "By using set(list)"
   ]
  },
  {
   "cell_type": "code",
   "execution_count": 102,
   "id": "7ce9ebca",
   "metadata": {},
   "outputs": [
    {
     "data": {
      "text/plain": [
       "{1, 2, 3, 4, 5, 90}"
      ]
     },
     "execution_count": 102,
     "metadata": {},
     "output_type": "execute_result"
    }
   ],
   "source": [
    "list_1=[1,2,3,3,3,4,4,5,90]\n",
    "my_set=set(list_1)\n",
    "my_set"
   ]
  },
  {
   "cell_type": "code",
   "execution_count": 103,
   "id": "567730fe",
   "metadata": {},
   "outputs": [
    {
     "name": "stdout",
     "output_type": "stream",
     "text": [
      "[1, 2, 3, 4, 5, 90]\n",
      "<class 'list'>\n"
     ]
    }
   ],
   "source": [
    "#again u can convert into list\n",
    "list_1=list(my_set)\n",
    "print(list_1)\n",
    "print(type(list_1))\n",
    "# \"u can do same for string as well\""
   ]
  },
  {
   "cell_type": "markdown",
   "id": "ce026d53",
   "metadata": {},
   "source": [
    "<span style=\"color:blue\">Access Items: You cannot access items in a set by referring to an index or a key.\n",
    "\n",
    "But you can loop through the set items using a for loop, or ask if a specified value is present in a set, by using the in keyword."
   ]
  },
  {
   "cell_type": "code",
   "execution_count": 105,
   "id": "a2f33676",
   "metadata": {},
   "outputs": [
    {
     "name": "stdout",
     "output_type": "stream",
     "text": [
      "banana\n",
      "cherry\n",
      "apple\n"
     ]
    }
   ],
   "source": [
    "thisset = {\"apple\", \"banana\", \"cherry\"}\n",
    "\n",
    "for x in thisset:\n",
    "    print(x)"
   ]
  },
  {
   "cell_type": "code",
   "execution_count": 106,
   "id": "28e671ae",
   "metadata": {},
   "outputs": [
    {
     "name": "stdout",
     "output_type": "stream",
     "text": [
      "True\n"
     ]
    }
   ],
   "source": [
    "thisset = {\"apple\", \"banana\", \"cherry\"}\n",
    "\n",
    "print(\"banana\" in thisset)"
   ]
  },
  {
   "cell_type": "markdown",
   "id": "19701b2a",
   "metadata": {},
   "source": [
    "# Dictionary"
   ]
  },
  {
   "cell_type": "markdown",
   "id": "566582d3",
   "metadata": {},
   "source": [
    "<span style=\"color:green\">A dictionary is a collection which is unordered, changeable and indexed. In Python dictionaries are written with curly brackets, and they have keys and values."
   ]
  },
  {
   "cell_type": "code",
   "execution_count": 107,
   "id": "f00d6a75",
   "metadata": {},
   "outputs": [],
   "source": [
    "dict_1={\"key1\":'value1',\"key2\":'value2'}"
   ]
  },
  {
   "cell_type": "markdown",
   "id": "e1ec26ee",
   "metadata": {},
   "source": [
    "<span style=\"color:blue\">Call values by their key"
   ]
  },
  {
   "cell_type": "code",
   "execution_count": 108,
   "id": "65be3687",
   "metadata": {},
   "outputs": [
    {
     "data": {
      "text/plain": [
       "'value2'"
      ]
     },
     "execution_count": 108,
     "metadata": {},
     "output_type": "execute_result"
    }
   ],
   "source": [
    "dict_1[\"key2\"]"
   ]
  },
  {
   "cell_type": "code",
   "execution_count": 109,
   "id": "93c9790c",
   "metadata": {},
   "outputs": [
    {
     "ename": "KeyError",
     "evalue": "'key3'",
     "output_type": "error",
     "traceback": [
      "\u001b[1;31m---------------------------------------------------------------------------\u001b[0m",
      "\u001b[1;31mKeyError\u001b[0m                                  Traceback (most recent call last)",
      "Input \u001b[1;32mIn [109]\u001b[0m, in \u001b[0;36m<cell line: 1>\u001b[1;34m()\u001b[0m\n\u001b[1;32m----> 1\u001b[0m \u001b[43mdict_1\u001b[49m\u001b[43m[\u001b[49m\u001b[38;5;124;43m\"\u001b[39;49m\u001b[38;5;124;43mkey3\u001b[39;49m\u001b[38;5;124;43m\"\u001b[39;49m\u001b[43m]\u001b[49m\n",
      "\u001b[1;31mKeyError\u001b[0m: 'key3'"
     ]
    }
   ],
   "source": [
    "dict_1[\"key3\"]# Since “key3” is not a key in the set, Python raises a KeyError exception"
   ]
  },
  {
   "cell_type": "markdown",
   "id": "8a721bc9",
   "metadata": {},
   "source": [
    "<span style=\"color:green\">Note-dictionary can accept any data type "
   ]
  },
  {
   "cell_type": "code",
   "execution_count": 110,
   "id": "b739161b",
   "metadata": {},
   "outputs": [],
   "source": [
    "dict_2={\"roll\":121,\"marks\":[55,56,57],\"sub\":[\"comp\",\"sci\",\"maths\"]}\n",
    "\n",
    "#if u keep more than 1 value then u can put in list[]"
   ]
  },
  {
   "cell_type": "markdown",
   "id": "19d0acf7",
   "metadata": {},
   "source": [
    "<span style=\"color:blue\">Lets call items from the dictionary"
   ]
  },
  {
   "cell_type": "code",
   "execution_count": 111,
   "id": "a865dd27",
   "metadata": {},
   "outputs": [
    {
     "data": {
      "text/plain": [
       "['comp', 'sci', 'maths']"
      ]
     },
     "execution_count": 111,
     "metadata": {},
     "output_type": "execute_result"
    }
   ],
   "source": [
    "dict_2[\"sub\"]"
   ]
  },
  {
   "cell_type": "markdown",
   "id": "95891fda",
   "metadata": {},
   "source": [
    "<span style=\"color:blue\">Lets call an index on that value from the dictionary"
   ]
  },
  {
   "cell_type": "code",
   "execution_count": 112,
   "id": "da4dfdb5",
   "metadata": {},
   "outputs": [
    {
     "data": {
      "text/plain": [
       "'sci'"
      ]
     },
     "execution_count": 112,
     "metadata": {},
     "output_type": "execute_result"
    }
   ],
   "source": [
    "dict_2[\"sub\"][1]"
   ]
  },
  {
   "cell_type": "markdown",
   "id": "6b3960d4",
   "metadata": {},
   "source": [
    "<span style=\"color:blue\">Lets call the value in uppercase and lower case"
   ]
  },
  {
   "cell_type": "code",
   "execution_count": 113,
   "id": "b5116f4e",
   "metadata": {},
   "outputs": [
    {
     "data": {
      "text/plain": [
       "'SCI'"
      ]
     },
     "execution_count": 113,
     "metadata": {},
     "output_type": "execute_result"
    }
   ],
   "source": [
    "dict_2[\"sub\"][1].upper()  #for lower case use.lower()"
   ]
  },
  {
   "cell_type": "code",
   "execution_count": 114,
   "id": "4794614e",
   "metadata": {},
   "outputs": [
    {
     "data": {
      "text/plain": [
       "[55, 56, 57]"
      ]
     },
     "execution_count": 114,
     "metadata": {},
     "output_type": "execute_result"
    }
   ],
   "source": [
    "dict_2[\"marks\"]"
   ]
  },
  {
   "cell_type": "markdown",
   "id": "e963386a",
   "metadata": {},
   "source": [
    "<span style=\"color:blue\">Lets add marks to the first element"
   ]
  },
  {
   "cell_type": "code",
   "execution_count": 115,
   "id": "fecc0d73",
   "metadata": {},
   "outputs": [
    {
     "data": {
      "text/plain": [
       "[55, 60, 57]"
      ]
     },
     "execution_count": 115,
     "metadata": {},
     "output_type": "execute_result"
    }
   ],
   "source": [
    "dict_2[\"marks\"][1]=dict_2[\"marks\"][1]+4\n",
    "dict_2[\"marks\"]"
   ]
  },
  {
   "cell_type": "code",
   "execution_count": 116,
   "id": "713d6ff5",
   "metadata": {},
   "outputs": [
    {
     "data": {
      "text/plain": [
       "[60, 60, 57]"
      ]
     },
     "execution_count": 116,
     "metadata": {},
     "output_type": "execute_result"
    }
   ],
   "source": [
    "#another way of adding\n",
    "dict_2[\"marks\"][0]+=5\n",
    "dict_2[\"marks\"]"
   ]
  },
  {
   "cell_type": "code",
   "execution_count": 117,
   "id": "c4baf63b",
   "metadata": {},
   "outputs": [
    {
     "data": {
      "text/plain": [
       "[60, 60, 50]"
      ]
     },
     "execution_count": 117,
     "metadata": {},
     "output_type": "execute_result"
    }
   ],
   "source": [
    "#another way of subtracting\n",
    "dict_2[\"marks\"][2]-=7\n",
    "dict_2[\"marks\"]"
   ]
  },
  {
   "cell_type": "markdown",
   "id": "ed766c19",
   "metadata": {},
   "source": [
    "<span style=\"color:blue\">Add new key"
   ]
  },
  {
   "cell_type": "code",
   "execution_count": 118,
   "id": "48f08fd3",
   "metadata": {},
   "outputs": [
    {
     "data": {
      "text/plain": [
       "{'roll': 121,\n",
       " 'marks': [60, 60, 50],\n",
       " 'sub': ['comp', 'sci', 'maths'],\n",
       " 'remark': 'B'}"
      ]
     },
     "execution_count": 118,
     "metadata": {},
     "output_type": "execute_result"
    }
   ],
   "source": [
    "dict_2[\"remark\"]=\"B\"\n",
    "dict_2"
   ]
  },
  {
   "cell_type": "markdown",
   "id": "99a8a922",
   "metadata": {},
   "source": [
    "<span style=\"color:blue\">Update value "
   ]
  },
  {
   "cell_type": "code",
   "execution_count": 119,
   "id": "fd1f2d77",
   "metadata": {},
   "outputs": [
    {
     "data": {
      "text/plain": [
       "{'roll': 100,\n",
       " 'marks': [60, 60, 50],\n",
       " 'sub': ['comp', 'sci', 'maths'],\n",
       " 'remark': 'B'}"
      ]
     },
     "execution_count": 119,
     "metadata": {},
     "output_type": "execute_result"
    }
   ],
   "source": [
    "dict_2.update({\"roll\":100})\n",
    "dict_2"
   ]
  },
  {
   "cell_type": "markdown",
   "id": "b6370a83",
   "metadata": {},
   "source": [
    "<span style=\"color:blue\">ITEMS()-method will return both key and corresponding values"
   ]
  },
  {
   "cell_type": "code",
   "execution_count": 120,
   "id": "39119514",
   "metadata": {},
   "outputs": [
    {
     "data": {
      "text/plain": [
       "dict_items([('roll', 100), ('marks', [60, 60, 50]), ('sub', ['comp', 'sci', 'maths']), ('remark', 'B')])"
      ]
     },
     "execution_count": 120,
     "metadata": {},
     "output_type": "execute_result"
    }
   ],
   "source": [
    "dict_2.items()"
   ]
  },
  {
   "cell_type": "markdown",
   "id": "4bf5727d",
   "metadata": {},
   "source": [
    "<span style=\"color:blue\">KEYS()- method will give only keys"
   ]
  },
  {
   "cell_type": "code",
   "execution_count": 121,
   "id": "76fbd670",
   "metadata": {},
   "outputs": [
    {
     "data": {
      "text/plain": [
       "dict_keys(['roll', 'marks', 'sub', 'remark'])"
      ]
     },
     "execution_count": 121,
     "metadata": {},
     "output_type": "execute_result"
    }
   ],
   "source": [
    "dict_2.keys()"
   ]
  },
  {
   "cell_type": "markdown",
   "id": "af45b08c",
   "metadata": {},
   "source": [
    "<span style=\"color:blue\">VALUES()-method will give only values"
   ]
  },
  {
   "cell_type": "code",
   "execution_count": 122,
   "id": "97425547",
   "metadata": {},
   "outputs": [
    {
     "data": {
      "text/plain": [
       "dict_values([100, [60, 60, 50], ['comp', 'sci', 'maths'], 'B'])"
      ]
     },
     "execution_count": 122,
     "metadata": {},
     "output_type": "execute_result"
    }
   ],
   "source": [
    "dict_2.values()"
   ]
  },
  {
   "cell_type": "markdown",
   "id": "1c2c4926",
   "metadata": {},
   "source": [
    "# DICTONARY PRACTISE"
   ]
  },
  {
   "cell_type": "code",
   "execution_count": 123,
   "id": "1b35f497",
   "metadata": {},
   "outputs": [
    {
     "ename": "TypeError",
     "evalue": "'>' not supported between instances of 'dict' and 'dict'",
     "output_type": "error",
     "traceback": [
      "\u001b[1;31m---------------------------------------------------------------------------\u001b[0m",
      "\u001b[1;31mTypeError\u001b[0m                                 Traceback (most recent call last)",
      "Input \u001b[1;32mIn [123]\u001b[0m, in \u001b[0;36m<cell line: 3>\u001b[1;34m()\u001b[0m\n\u001b[0;32m      1\u001b[0m d1 \u001b[38;5;241m=\u001b[39m {\u001b[38;5;124m\"\u001b[39m\u001b[38;5;124mjohn\u001b[39m\u001b[38;5;124m\"\u001b[39m:\u001b[38;5;241m40\u001b[39m, \u001b[38;5;124m\"\u001b[39m\u001b[38;5;124mpeter\u001b[39m\u001b[38;5;124m\"\u001b[39m:\u001b[38;5;241m45\u001b[39m}\n\u001b[0;32m      2\u001b[0m d2 \u001b[38;5;241m=\u001b[39m {\u001b[38;5;124m\"\u001b[39m\u001b[38;5;124mjohn\u001b[39m\u001b[38;5;124m\"\u001b[39m:\u001b[38;5;241m466\u001b[39m, \u001b[38;5;124m\"\u001b[39m\u001b[38;5;124mpeter\u001b[39m\u001b[38;5;124m\"\u001b[39m:\u001b[38;5;241m45\u001b[39m}\n\u001b[1;32m----> 3\u001b[0m \u001b[43md1\u001b[49m\u001b[43m \u001b[49m\u001b[38;5;241;43m>\u001b[39;49m\u001b[43m \u001b[49m\u001b[43md2\u001b[49m\n",
      "\u001b[1;31mTypeError\u001b[0m: '>' not supported between instances of 'dict' and 'dict'"
     ]
    }
   ],
   "source": [
    "d1 = {\"john\":40, \"peter\":45}\n",
    "d2 = {\"john\":466, \"peter\":45}\n",
    "d1 > d2\n",
    "#Arithmetic > operator cannot be used with dictionaries."
   ]
  },
  {
   "cell_type": "code",
   "execution_count": 55,
   "id": "3fc19c2e",
   "metadata": {},
   "outputs": [
    {
     "name": "stdout",
     "output_type": "stream",
     "text": [
      "A\n"
     ]
    }
   ],
   "source": [
    "a={1:\"A\",2:\"B\",3:\"C\"}\n",
    "print(a.get(1,4))\n",
    "'''\n",
    "Explanation: The get() method returns the value of the key if the key is present in the dictionary\n",
    "    and the default value(second parameter) if the key isn’t present in the dictionary.\n",
    "'''"
   ]
  },
  {
   "cell_type": "code",
   "execution_count": 56,
   "id": "a99f3889",
   "metadata": {},
   "outputs": [
    {
     "name": "stdout",
     "output_type": "stream",
     "text": [
      "4\n"
     ]
    }
   ],
   "source": [
    "a={1:\"A\",2:\"B\",3:\"C\"}\n",
    "print(a.get(5,4))"
   ]
  },
  {
   "cell_type": "markdown",
   "id": "4d2665d3",
   "metadata": {},
   "source": [
    "get() Parameters\n",
    "get() method takes maximum of two parameters:\n",
    "\n",
    "key - key to be searched in the dictionary             \n",
    "value (optional) - Value to be returned if the key is not found. The default value is None."
   ]
  },
  {
   "cell_type": "code",
   "execution_count": 58,
   "id": "5832ba62",
   "metadata": {},
   "outputs": [
    {
     "name": "stdout",
     "output_type": "stream",
     "text": [
      "9\n"
     ]
    }
   ],
   "source": [
    "a={1:5,2:3,3:4}\n",
    "print(a.pop(4,9))\n",
    "\n",
    "#Explanation: pop() method returns the value when the key is passed as an argument and \n",
    "#otherwise returns the default value(second argument) if the key isn’t present in the dictionary."
   ]
  },
  {
   "cell_type": "markdown",
   "id": "6f2761e1",
   "metadata": {},
   "source": [
    "<span style=\"color:red\">****************"
   ]
  },
  {
   "cell_type": "code",
   "execution_count": null,
   "id": "879d9f68",
   "metadata": {},
   "outputs": [],
   "source": []
  }
 ],
 "metadata": {
  "kernelspec": {
   "display_name": "Python 3 (ipykernel)",
   "language": "python",
   "name": "python3"
  },
  "language_info": {
   "codemirror_mode": {
    "name": "ipython",
    "version": 3
   },
   "file_extension": ".py",
   "mimetype": "text/x-python",
   "name": "python",
   "nbconvert_exporter": "python",
   "pygments_lexer": "ipython3",
   "version": "3.9.12"
  }
 },
 "nbformat": 4,
 "nbformat_minor": 5
}
